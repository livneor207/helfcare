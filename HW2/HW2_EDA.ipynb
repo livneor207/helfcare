{
 "cells": [
  {
   "cell_type": "markdown",
   "metadata": {},
   "source": [
    "# Exploratory Data Analysis of Pneumothorax dataset"
   ]
  },
  {
   "cell_type": "markdown",
   "metadata": {},
   "source": [
    "## Preparations"
   ]
  },
  {
   "cell_type": "markdown",
   "metadata": {},
   "source": [
    "### Imports"
   ]
  },
  {
   "cell_type": "code",
   "execution_count": 16,
   "metadata": {
    "_kg_hide-input": true
   },
   "outputs": [],
   "source": [
    "# Data handling imports\n",
    "import pandas as pd\n",
    "pd.reset_option('max_colwidth')\n",
    "import numpy as np\n",
    "\n",
    "# Read DICOM format\n",
    "import pydicom\n",
    "\n",
    "# Plotting imports\n",
    "import matplotlib.pyplot as plt\n",
    "import seaborn as sns\n",
    "import cv2\n",
    "\n",
    "# General purpose imports\n",
    "import os\n",
    "from glob import glob\n",
    "\n",
    "# Benchmark \\ Baseline U-net\n",
    "# pip install segmentation-models-pytorch\n",
    "import segmentation_models_pytorch as smp"
   ]
  },
  {
   "cell_type": "markdown",
   "metadata": {},
   "source": [
    "### Set Paths"
   ]
  },
  {
   "cell_type": "code",
   "execution_count": 17,
   "metadata": {},
   "outputs": [
    {
     "name": "stdout",
     "output_type": "stream",
     "text": [
      "train_rle_encodings_file_path: /Users/royrubin/Downloads/siim/train-rle.csv\n",
      "train_files_path: /Users/royrubin/Downloads/siim/dicom-images-train/\n",
      "test_files_path: /Users/royrubin/Downloads/siim/dicom-images-test/\n"
     ]
    }
   ],
   "source": [
    "# general folder path\n",
    "user = 'roy' # 'or' \\ 'roy'\n",
    "if user == 'roy':\n",
    "    folder_path = '/Users/royrubin/Downloads/siim/' \n",
    "else:\n",
    "    folder_path = '... OR - your path'\n",
    "    \n",
    "# paths for files\n",
    "train_rle_encodings_file_path = os.path.join(folder_path, 'train-rle.csv')\n",
    "train_files_path = os.path.join(folder_path, 'dicom-images-train/')\n",
    "test_files_path = os.path.join(folder_path, 'dicom-images-test/')\n",
    "\n",
    "print(f'train_rle_encodings_file_path: {train_rle_encodings_file_path}')\n",
    "print(f'train_files_path: {train_files_path}')\n",
    "print(f'test_files_path: {test_files_path}')"
   ]
  },
  {
   "cell_type": "markdown",
   "metadata": {},
   "source": [
    "### Handle uncomfotable and uneeded subdirs"
   ]
  },
  {
   "cell_type": "code",
   "execution_count": 18,
   "metadata": {},
   "outputs": [
    {
     "name": "stdout",
     "output_type": "stream",
     "text": [
      "\n",
      "train files: amount 12089, examples: \n",
      "/Users/royrubin/Downloads/siim/dicom-images-train/1.2.276.0.7230010.3.1.2.8323329.1000.1517875165.878026/1.2.276.0.7230010.3.1.3.8323329.1000.1517875165.878025/1.2.276.0.7230010.3.1.4.8323329.1000.1517875165.878027.dcm\n",
      "/Users/royrubin/Downloads/siim/dicom-images-train/1.2.276.0.7230010.3.1.2.8323329.10000.1517875220.938529/1.2.276.0.7230010.3.1.3.8323329.10000.1517875220.938528/1.2.276.0.7230010.3.1.4.8323329.10000.1517875220.938530.dcm\n",
      "\n",
      "test files: amount 3205, examples: \n",
      "/Users/royrubin/Downloads/siim/dicom-images-test/_/_/ID_0011fe81e.dcm\n",
      "/Users/royrubin/Downloads/siim/dicom-images-test/_/_/ID_003206608.dcm\n"
     ]
    }
   ],
   "source": [
    "#reading all dcm files into train and text\n",
    "if user == 'roy':\n",
    "    # then i downloaded the data from: 'https://www.kaggle.com/datasets/seesee/siim-train-test'\n",
    "    train_file_names = sorted(glob(train_files_path + \"*/*/*.dcm\"))\n",
    "    test_file_names = sorted(glob(test_files_path + \"*/*/*.dcm\")) # sorted([f for f in listdir(test_files_path) if '.dcm' in f])\n",
    "    \n",
    "print(f\"\\ntrain files: amount {len(train_file_names)}, examples: \\n{train_file_names[0]}\\n{train_file_names[1]}\")\n",
    "print(f\"\\ntest files: amount {len(test_file_names)}, examples: \\n{test_file_names[0]}\\n{test_file_names[1]}\")"
   ]
  },
  {
   "cell_type": "markdown",
   "metadata": {},
   "source": [
    "### Read the RLE encondings csv"
   ]
  },
  {
   "cell_type": "code",
   "execution_count": 19,
   "metadata": {},
   "outputs": [
    {
     "name": "stdout",
     "output_type": "stream",
     "text": [
      "CPU times: user 79.6 ms, sys: 23.3 ms, total: 103 ms\n",
      "Wall time: 118 ms\n"
     ]
    }
   ],
   "source": [
    "%%time\n",
    "# read train-rle.csv\n",
    "train_rle_encodings_df = pd.read_csv(train_rle_encodings_file_path, delimiter=\",\")\n",
    "train_rle_encodings_df.rename(columns={\" EncodedPixels\": \"EncodedPixels\"}, inplace=True)"
   ]
  },
  {
   "cell_type": "code",
   "execution_count": 20,
   "metadata": {},
   "outputs": [
    {
     "name": "stdout",
     "output_type": "stream",
     "text": [
      "size (12954, 2)\n"
     ]
    },
    {
     "data": {
      "text/html": [
       "<div>\n",
       "<style scoped>\n",
       "    .dataframe tbody tr th:only-of-type {\n",
       "        vertical-align: middle;\n",
       "    }\n",
       "\n",
       "    .dataframe tbody tr th {\n",
       "        vertical-align: top;\n",
       "    }\n",
       "\n",
       "    .dataframe thead th {\n",
       "        text-align: right;\n",
       "    }\n",
       "</style>\n",
       "<table border=\"1\" class=\"dataframe\">\n",
       "  <thead>\n",
       "    <tr style=\"text-align: right;\">\n",
       "      <th></th>\n",
       "      <th>ImageId</th>\n",
       "      <th>EncodedPixels</th>\n",
       "    </tr>\n",
       "  </thead>\n",
       "  <tbody>\n",
       "    <tr>\n",
       "      <th>0</th>\n",
       "      <td>1.2.276.0.7230010.3.1.4.8323329.6904.151787520...</td>\n",
       "      <td>-1</td>\n",
       "    </tr>\n",
       "    <tr>\n",
       "      <th>1</th>\n",
       "      <td>1.2.276.0.7230010.3.1.4.8323329.13666.15178752...</td>\n",
       "      <td>557374 2 1015 8 1009 14 1002 20 997 26 990 32 ...</td>\n",
       "    </tr>\n",
       "    <tr>\n",
       "      <th>2</th>\n",
       "      <td>1.2.276.0.7230010.3.1.4.8323329.11028.15178752...</td>\n",
       "      <td>-1</td>\n",
       "    </tr>\n",
       "  </tbody>\n",
       "</table>\n",
       "</div>"
      ],
      "text/plain": [
       "                                             ImageId  \\\n",
       "0  1.2.276.0.7230010.3.1.4.8323329.6904.151787520...   \n",
       "1  1.2.276.0.7230010.3.1.4.8323329.13666.15178752...   \n",
       "2  1.2.276.0.7230010.3.1.4.8323329.11028.15178752...   \n",
       "\n",
       "                                       EncodedPixels  \n",
       "0                                                 -1  \n",
       "1  557374 2 1015 8 1009 14 1002 20 997 26 990 32 ...  \n",
       "2                                                 -1  "
      ]
     },
     "execution_count": 20,
     "metadata": {},
     "output_type": "execute_result"
    }
   ],
   "source": [
    "print(f'size {train_rle_encodings_df.shape}')\n",
    "train_rle_encodings_df.head(3)"
   ]
  },
  {
   "cell_type": "markdown",
   "metadata": {},
   "source": [
    "### Read images train data from DICOM format"
   ]
  },
  {
   "cell_type": "code",
   "execution_count": null,
   "metadata": {},
   "outputs": [],
   "source": [
    "%%time\n",
    "# around 2 mins\n",
    "temp = [{'UID': pydicom.read_file(file_name).SOPInstanceUID, 'Image': pydicom.read_file(file_name).pixel_array} \n",
    "                for file_name in train_file_names]\n",
    "train_images_df = pd.DataFrame(temp)"
   ]
  },
  {
   "cell_type": "code",
   "execution_count": null,
   "metadata": {},
   "outputs": [],
   "source": [
    "print(f'size {len(train_images_df)}')\n",
    "print(f'shape of single image {train_images_df.iloc[0].Image.shape}')\n",
    "train_images_df.head(3)"
   ]
  },
  {
   "cell_type": "markdown",
   "metadata": {},
   "source": [
    "### Read metadata train data from DICOM format"
   ]
  },
  {
   "cell_type": "code",
   "execution_count": null,
   "metadata": {},
   "outputs": [],
   "source": [
    "%%time\n",
    "# around 30 secs\n",
    "train_metadata = [pydicom.dcmread(file_name) for file_name in train_file_names]"
   ]
  },
  {
   "cell_type": "code",
   "execution_count": null,
   "metadata": {},
   "outputs": [],
   "source": [
    "print(type(train_metadata[0]))"
   ]
  },
  {
   "cell_type": "markdown",
   "metadata": {},
   "source": [
    "### Function for viewing single patient data extracted from pydicom format"
   ]
  },
  {
   "cell_type": "code",
   "execution_count": null,
   "metadata": {},
   "outputs": [],
   "source": [
    "def show_patient_data(patient_file_name: str):\n",
    "    #displaying metadata\n",
    "    data = pydicom.dcmread(patient_file_name)\n",
    "    print(data)\n",
    "    \n",
    "    #displaying the image\n",
    "    img = pydicom.read_file(patient_file_name).pixel_array\n",
    "    plt.figure(0)\n",
    "    plt.grid(False)\n",
    "    plt.imshow(img, cmap='bone')"
   ]
  },
  {
   "cell_type": "markdown",
   "metadata": {},
   "source": [
    "### Function for generating metadata pandas dataframe"
   ]
  },
  {
   "cell_type": "code",
   "execution_count": null,
   "metadata": {},
   "outputs": [],
   "source": [
    "def generate_metadata_dataframe(train_metadata: list, masks: pd.DataFrame):\n",
    "    \n",
    "    patients = pd.DataFrame()\n",
    "\n",
    "    for data in train_metadata:\n",
    "        patient = dict()\n",
    "        \n",
    "        # save the wanted features from the dicom foramt\n",
    "        patient[\"UID\"] = data.SOPInstanceUID\n",
    "        patient[\"PatientID\"] = data.PatientID        \n",
    "        patient[\"Age\"] = data.PatientAge\n",
    "        patient[\"Sex\"] = data.PatientSex\n",
    "        patient[\"Modality\"] = data.Modality\n",
    "        patient[\"BodyPart\"] = data.BodyPartExamined\n",
    "        patient[\"ViewPosition\"] = data.ViewPosition\n",
    "        patient[\"Columns\"] = data.Columns\n",
    "        patient[\"Rows\"] = data.Rows\n",
    "        patient[\"PatientOrientation\"] = data.PatientOrientation\n",
    "        patient[\"PhotometricInterpretation\"] = data.PhotometricInterpretation\n",
    "        patient[\"PixelSpacing\"] = data.PixelSpacing\n",
    "        patient[\"SamplesPerPixel\"] = data.SamplesPerPixel\n",
    "        patient[\"PixelSpacing\"] = data.PixelSpacing\n",
    "\n",
    "        # add a label to the data - if the patient has the disease or not\n",
    "        try:\n",
    "            encoded_pixels = masks[masks[\"ImageId\"] == patient[\"UID\"]].values[0][1]\n",
    "            # patient[\"EncodedPixels\"] = encoded_pixels\n",
    "            patient[\"Label\"] = 'Healthy' if encoded_pixels == '-1' else 'Pneumothorax'\n",
    "        except:\n",
    "            patient[\"Label\"] = 'NoLabel'\n",
    "            \n",
    "#         # multiple labels ???\n",
    "#         patient[\"Multiple\"] = False\n",
    "#         tmp = masks[masks['ImageId'] == '.'.join(patient[\"UID\"].split('.')[:-1])]\n",
    "        \n",
    "#         if tmp.shape[0] > 1: \n",
    "#             patient[\"Multiple\"] = True\n",
    "        \n",
    "        # finally\n",
    "        patients = patients.append(patient, ignore_index=True)\n",
    "    \n",
    "    # return the dataframe as output\n",
    "    return patients"
   ]
  },
  {
   "cell_type": "code",
   "execution_count": null,
   "metadata": {},
   "outputs": [],
   "source": [
    "%%time\n",
    "# around 2 mins\n",
    "train_metadata_df = generate_metadata_dataframe(train_metadata, train_rle_encodings_df)"
   ]
  },
  {
   "cell_type": "markdown",
   "metadata": {},
   "source": [
    "#### what does the data look like ?"
   ]
  },
  {
   "cell_type": "code",
   "execution_count": null,
   "metadata": {},
   "outputs": [],
   "source": [
    "train_rle_encodings_df.iloc[0]"
   ]
  },
  {
   "cell_type": "code",
   "execution_count": null,
   "metadata": {},
   "outputs": [],
   "source": [
    "show_patient_data(train_file_names[0])"
   ]
  },
  {
   "cell_type": "markdown",
   "metadata": {
    "_kg_hide-input": true
   },
   "source": [
    "\n",
    "<br> </br>\n",
    "## EDA on the Train data !\n",
    "<br> </br>\n"
   ]
  },
  {
   "cell_type": "markdown",
   "metadata": {},
   "source": [
    "### Step 1: Meta Data EDA"
   ]
  },
  {
   "cell_type": "markdown",
   "metadata": {},
   "source": [
    "#### Step 1.1: General exploration"
   ]
  },
  {
   "cell_type": "code",
   "execution_count": null,
   "metadata": {},
   "outputs": [],
   "source": [
    "train_metadata_df.shape"
   ]
  },
  {
   "cell_type": "code",
   "execution_count": null,
   "metadata": {},
   "outputs": [],
   "source": [
    "train_metadata_df.head(3)"
   ]
  },
  {
   "cell_type": "code",
   "execution_count": null,
   "metadata": {},
   "outputs": [],
   "source": [
    "train_metadata_df.info(verbose=True)"
   ]
  },
  {
   "cell_type": "code",
   "execution_count": null,
   "metadata": {},
   "outputs": [],
   "source": [
    "#### We can see that age here is an object and not an int (or float). we'll convert it to int"
   ]
  },
  {
   "cell_type": "code",
   "execution_count": null,
   "metadata": {},
   "outputs": [],
   "source": [
    "train_metadata_df['Age'] = train_metadata_df['Age'].astype(str).astype(int)"
   ]
  },
  {
   "cell_type": "code",
   "execution_count": null,
   "metadata": {},
   "outputs": [],
   "source": [
    "train_metadata_df.describe(include='all')"
   ]
  },
  {
   "cell_type": "markdown",
   "metadata": {},
   "source": [
    "#### After seeing the stats above, some information can be dropped.\n",
    "* 'Modality' is always CR (Computed Radiography)\n",
    "* 'BodyPart' is always CHEST\n",
    "* 'PatientOrientation' is always empty\n",
    "* 'PhotometricInterpretation' is always MONOCHROME2\n",
    "* 'SamplesPerPixel' is always 1\n",
    "* 'Columns' and 'Rows' are always 1024\n",
    "* 'Age' contains values that are illegal <-----------"
   ]
  },
  {
   "cell_type": "code",
   "execution_count": null,
   "metadata": {},
   "outputs": [],
   "source": [
    "list_of_columns_to_drop = ['Modality','BodyPart','PatientOrientation','PhotometricInterpretation','SamplesPerPixel', 'Columns', 'Rows']\n",
    "train_metadata_df.drop(columns=list_of_columns_to_drop, inplace=True, errors='ignore')\n",
    "train_metadata_df.drop(train_metadata_df[train_metadata_df.Age > 120].index, inplace=True)\n",
    "print(f'dropped {len(list_of_columns_to_drop)} columns')\n",
    "print(f'dropped {len(train_metadata_df[train_metadata_df.Age > 120].index)} rows')"
   ]
  },
  {
   "cell_type": "code",
   "execution_count": null,
   "metadata": {},
   "outputs": [],
   "source": [
    "train_metadata_df.shape"
   ]
  },
  {
   "cell_type": "code",
   "execution_count": null,
   "metadata": {},
   "outputs": [],
   "source": [
    "train_metadata_df.head(3)"
   ]
  },
  {
   "cell_type": "markdown",
   "metadata": {},
   "source": [
    "#### Check for unique values and their counts in the metadata"
   ]
  },
  {
   "cell_type": "code",
   "execution_count": null,
   "metadata": {},
   "outputs": [],
   "source": [
    "for column in list(train_metadata_df.columns):\n",
    "    if 'ID' not in column and 'EncodedPixels' not in column:\n",
    "        counts = train_metadata_df[column].value_counts()\n",
    "        print(f'\\nNumber of unique values in column [{column}]: {len(counts)}, Value counts:\\n{counts}\\n--------------')"
   ]
  },
  {
   "cell_type": "markdown",
   "metadata": {},
   "source": [
    "#### Gender analysis"
   ]
  },
  {
   "cell_type": "code",
   "execution_count": null,
   "metadata": {},
   "outputs": [],
   "source": [
    "men = train_metadata_df[train_metadata_df[\"Sex\"] == \"M\"].shape[0]\n",
    "women = train_metadata_df[train_metadata_df[\"Sex\"] == \"F\"].shape[0]"
   ]
  },
  {
   "cell_type": "code",
   "execution_count": null,
   "metadata": {},
   "outputs": [],
   "source": [
    "fig, ax = plt.subplots(1, 1, figsize=(5, 5))\n",
    "fig.suptitle(\"Gender Plot\", fontsize=18)\n",
    "circle0 = plt.Circle( (0,0), 0.6, color = 'white')\n",
    "ax.pie([men, women], labels=[\"men\", \"women\"], colors=[\"#42A5F5\", \"#E57373\"], autopct='%1.1f%%', pctdistance=0.8, startangle=90)\n",
    "ax.add_patch(circle0)\n",
    "plt.tight_layout()\n",
    "plt.show()"
   ]
  },
  {
   "cell_type": "markdown",
   "metadata": {},
   "source": [
    "#### Illness Analysis"
   ]
  },
  {
   "cell_type": "code",
   "execution_count": null,
   "metadata": {},
   "outputs": [],
   "source": [
    "healthy = train_metadata_df[train_metadata_df[\"Label\"] == \"Healthy\"].shape[0]\n",
    "ill = train_metadata_df[train_metadata_df[\"Label\"] == \"Pneumothorax\"].shape[0]"
   ]
  },
  {
   "cell_type": "code",
   "execution_count": null,
   "metadata": {},
   "outputs": [],
   "source": [
    "fig, ax = plt.subplots(1, 1, figsize=(5, 5))\n",
    "fig.suptitle(\"Pneumothorax VS Health\", fontsize=18)\n",
    "circle1 = plt.Circle( (0,0), 0.6, color = 'white')\n",
    "\n",
    "ax.pie([healthy, ill], labels=[\"Healthy\", \"Pneumathorax\"], colors=[\"#9CCC65\", \"#FFB74D\"], autopct='%1.1f%%')\n",
    "ax.add_patch(circle1)\n",
    "\n",
    "plt.tight_layout()\n",
    "plt.show()"
   ]
  },
  {
   "cell_type": "markdown",
   "metadata": {},
   "source": [
    "#### Gender & Illness Analysis"
   ]
  },
  {
   "cell_type": "code",
   "execution_count": null,
   "metadata": {},
   "outputs": [],
   "source": [
    "men_h = train_metadata_df[(train_metadata_df[\"Sex\"] == \"M\") & (train_metadata_df[\"Label\"] == \"Healthy\")].shape[0]\n",
    "men_ill = men - men_h\n",
    "women_h = train_metadata_df[(train_metadata_df[\"Sex\"] == \"F\") & (train_metadata_df[\"Label\"] == \"Healthy\")].shape[0]\n",
    "women_ill = women - women_h"
   ]
  },
  {
   "cell_type": "code",
   "execution_count": null,
   "metadata": {},
   "outputs": [],
   "source": [
    "perc = [\"ill \\n\" + str(round(men_ill/107.12, 1)) + \"%\", \n",
    "        \"healthy \\n\" + str(round(men_h/107.12, 1)) + \"%\", \n",
    "        \"healthy \\n\" + str(round(women_h/107.12, 1)) + \"%\",\n",
    "        \"ill \\n\" + str(round(women_ill/107.12, 1)) + \"%\"]\n",
    "\n",
    "fig, ax = plt.subplots(1, 1, figsize=(15, 5))\n",
    "\n",
    "fig.suptitle(\"Gender plots with Pneumothorax distributions\", fontsize=18)\n",
    "\n",
    "mypie, _ = ax.pie([men, women], radius=1.3, labels=[\"men\", \"women\"], colors=[\"#42A5F5\", \"#E57373\"], startangle=90)\n",
    "plt.setp( mypie, width=0.2, edgecolor='white')\n",
    "\n",
    "mypie2, _ = ax.pie([ men_ill, men_h, women_h, women_ill], radius = 1.3 - 0.3, labels=perc, labeldistance=0.61,\n",
    "                      colors = [\"#FFB74D\", \"#9CCC65\", \"#9CCC65\", \"#FFB74D\"], startangle=90)\n",
    "plt.setp( mypie2, width=0.3, edgecolor='white')\n",
    "\n",
    "plt.tight_layout()\n",
    "plt.show()"
   ]
  },
  {
   "cell_type": "markdown",
   "metadata": {},
   "source": [
    "#### Age Analysis"
   ]
  },
  {
   "cell_type": "code",
   "execution_count": null,
   "metadata": {},
   "outputs": [],
   "source": [
    "plt.figure()\n",
    "train_metadata_df[\"Age\"].plot.hist(bins = 100)\n",
    "plt.title(\"Age Histogram\", fontsize=18)\n",
    "plt.xlabel(\"Age\")\n",
    "plt.xticks([i*10 for i in range(11)])\n",
    "plt.ylabel(\"Count\")\n",
    "plt.show()"
   ]
  },
  {
   "cell_type": "code",
   "execution_count": null,
   "metadata": {},
   "outputs": [],
   "source": [
    "train_metadata_df['Age'] = train_metadata_df['Age'].astype('int') \n",
    "fig, axes = plt.subplots(nrows=1, ncols=1,figsize=(8,4))\n",
    "sns.boxplot(train_metadata_df['Age'])\n",
    "axes.title.set_text(f'Age')\n",
    "plt.show()"
   ]
  },
  {
   "cell_type": "markdown",
   "metadata": {},
   "source": [
    "#### Age & Illness Analysis"
   ]
  },
  {
   "cell_type": "code",
   "execution_count": null,
   "metadata": {},
   "outputs": [],
   "source": [
    "bins = [i for i in range(100)]\n",
    "\n",
    "all_men = np.histogram(train_metadata_df[train_metadata_df[\"Sex\"] == \"M\"][\"Age\"].values, bins=bins)[0]\n",
    "all_women = np.histogram(train_metadata_df[train_metadata_df[\"Sex\"] == \"F\"][\"Age\"].values, bins=bins)[0]\n",
    "\n",
    "ill_men = np.histogram(train_metadata_df[(train_metadata_df[\"Sex\"] == \"M\") & (train_metadata_df[\"Label\"] != 'Healthy')][\"Age\"].values, bins=bins)[0]\n",
    "ill_women = np.histogram(train_metadata_df[(train_metadata_df[\"Sex\"] == \"F\") & (train_metadata_df[\"Label\"] != 'Healthy')][\"Age\"].values, bins=bins)[0]"
   ]
  },
  {
   "cell_type": "code",
   "execution_count": null,
   "metadata": {},
   "outputs": [],
   "source": [
    "fig, axes = plt.subplots(ncols=2, sharey=True, figsize=(10, 10))\n",
    "fig.suptitle(\"Pneumothorax by Age and Genders\", fontsize=18)\n",
    "\n",
    "# Men plot\n",
    "# axes[0].margins(x=0.1, y=0.01)\n",
    "m1 = axes[0].barh(bins[:-1], all_men, color='#90CAF9')\n",
    "m2 = axes[0].barh(bins[:-1], ill_men, color='#0D47A1')\n",
    "axes[0].set_title('Men', fontsize=15)\n",
    "axes[0].invert_xaxis()\n",
    "axes[0].set(yticks=[i*5 for i in range(20)])\n",
    "axes[0].tick_params(axis=\"y\", labelsize=14)\n",
    "axes[0].yaxis.tick_right()\n",
    "# axes[0].xaxis.tick_top()\n",
    "axes[0].legend((m1[0], m2[0]), ('Healthy', 'Pneumothorax'), loc=2, prop={'size': 13})\n",
    "\n",
    "# Women plot\n",
    "# axes[1].margins(y=0.01)\n",
    "w1 = axes[1].barh(bins[:-1], all_women, color='#EF9A9A')\n",
    "w2 = axes[1].barh(bins[:-1], ill_women, color='#B71C1C')\n",
    "axes[1].set_title('Women', fontsize=15)\n",
    "# axes[1].xaxis.tick_top()\n",
    "axes[1].legend((w1[0], w2[0]), ('Healthy', 'Pneumothorax'), prop={'size': 13})\n",
    "\n",
    "# adjust\n",
    "locs = axes[0].get_xticks()\n",
    "axes[1].set_xticks(locs)\n",
    "\n",
    "plt.show()"
   ]
  },
  {
   "cell_type": "markdown",
   "metadata": {},
   "source": [
    "#### View Positions"
   ]
  },
  {
   "cell_type": "markdown",
   "metadata": {},
   "source": [
    "The view position can be AP or PA. These refer to the way of x-ray in the body, [based on this source](https://www.quora.com/What-is-the-difference-between-an-AP-and-a-PA-view-of-an-X-ray)\n",
    "* PA: passes from posterior of the body to anterior --> getting better anterior shadings\n",
    "* AP: passes from anterior of the body to posterior --> getting better posterior shaginds"
   ]
  },
  {
   "cell_type": "code",
   "execution_count": null,
   "metadata": {},
   "outputs": [],
   "source": [
    "plt.figure()\n",
    "plt.pie(train_metadata_df[\"ViewPosition\"].value_counts(), labels = [\"PA\", \"AP\"], autopct='%1.1f%%') \n",
    "plt.title(\"View Positions\", fontsize=16)\n",
    "plt.show()"
   ]
  },
  {
   "cell_type": "code",
   "execution_count": null,
   "metadata": {},
   "outputs": [],
   "source": [
    "%%time\n",
    "sns.catplot(x=\"ViewPosition\", y=\"Age\", hue=\"Sex\",\n",
    "            col=\"Label\", aspect=.7,\n",
    "            kind=\"swarm\", data=train_metadata_df)"
   ]
  },
  {
   "cell_type": "code",
   "execution_count": null,
   "metadata": {},
   "outputs": [],
   "source": [
    "sns.countplot(x=\"ViewPosition\", hue='Label', data=train_metadata_df)"
   ]
  },
  {
   "cell_type": "code",
   "execution_count": null,
   "metadata": {},
   "outputs": [],
   "source": [
    "# # Make data: I have 3 groups and 7 subgroups\n",
    "# group_names=['groupA', 'groupB', 'groupC']\n",
    "# group_size=[12,11,30]\n",
    "# subgroup_names=['A.1', 'A.2', 'A.3', 'B.1', 'B.2', 'C.1', 'C.2', 'C.3', 'C.4', 'C.5']\n",
    "# subgroup_size=[4,3,5,6,5,10,5,5,4,6]\n",
    " \n",
    "# # Create colors\n",
    "# a, b, c=[plt.cm.Blues, plt.cm.Reds, plt.cm.Greens]\n",
    " \n",
    "# # First Ring (outside)\n",
    "# fig, ax = plt.subplots()\n",
    "# ax.axis('equal')\n",
    "# mypie, _ = ax.pie(group_size, radius=1.3, labels=group_names, colors=[a(0.6), b(0.6), c(0.6)] )\n",
    "# plt.setp( mypie, width=0.3, edgecolor='white')\n",
    " \n",
    "# # Second Ring (Inside)\n",
    "# mypie2, _ = ax.pie(subgroup_size, radius=1.3-0.3, labels=subgroup_names, labeldistance=0.7, colors=[a(0.5), a(0.4), a(0.3), b(0.5), b(0.4), c(0.6), c(0.5), c(0.4), c(0.3), c(0.2)])\n",
    "# plt.setp( mypie2, width=0.4, edgecolor='white')\n",
    "# plt.margins(0,0)\n",
    " \n",
    "# # show it\n",
    "# plt.show()"
   ]
  },
  {
   "cell_type": "code",
   "execution_count": null,
   "metadata": {},
   "outputs": [],
   "source": []
  },
  {
   "cell_type": "markdown",
   "metadata": {},
   "source": [
    "# Others to visualize in metadata eda"
   ]
  },
  {
   "cell_type": "code",
   "execution_count": null,
   "metadata": {},
   "outputs": [],
   "source": []
  },
  {
   "cell_type": "markdown",
   "metadata": {},
   "source": [
    "## Masks EDA"
   ]
  },
  {
   "cell_type": "code",
   "execution_count": null,
   "metadata": {},
   "outputs": [],
   "source": [
    "train_rle_encodings_df.info()"
   ]
  },
  {
   "cell_type": "code",
   "execution_count": null,
   "metadata": {},
   "outputs": [],
   "source": [
    "train_rle_encodings_df.describe(include='all')"
   ]
  },
  {
   "cell_type": "markdown",
   "metadata": {},
   "source": [
    "#### note from the above that some images have more than one mask !"
   ]
  },
  {
   "cell_type": "code",
   "execution_count": null,
   "metadata": {},
   "outputs": [],
   "source": []
  },
  {
   "cell_type": "code",
   "execution_count": null,
   "metadata": {},
   "outputs": [],
   "source": []
  },
  {
   "cell_type": "markdown",
   "metadata": {},
   "source": [
    "## Images EDA"
   ]
  },
  {
   "cell_type": "markdown",
   "metadata": {},
   "source": [
    "<div class=\"alert alert-block alert-warning\">\n",
    "<b>Note:</b> some images have multiple masks\n",
    "</div>"
   ]
  },
  {
   "cell_type": "code",
   "execution_count": null,
   "metadata": {},
   "outputs": [],
   "source": [
    "# Copied from Kaggle \"mask_functions.py\"\n",
    "def rle2mask(rle, width, height):\n",
    "    mask= np.zeros(width* height)\n",
    "    array = np.asarray([int(x) for x in rle.split()])\n",
    "    starts = array[0::2]\n",
    "    lengths = array[1::2]\n",
    "\n",
    "    current_position = 0\n",
    "    for index, start in enumerate(starts):\n",
    "        current_position += start\n",
    "        mask[current_position:current_position+lengths[index]] = 255\n",
    "        current_position += lengths[index]\n",
    "\n",
    "    return mask.reshape(width, height)"
   ]
  },
  {
   "cell_type": "code",
   "execution_count": null,
   "metadata": {},
   "outputs": [],
   "source": [
    "def get_bounding_box(img):\n",
    "    # return max and min of a mask to draw bounding box\n",
    "    rows = np.any(img, axis=1)\n",
    "    cols = np.any(img, axis=0)\n",
    "    rmin, rmax = np.where(rows)[0][[0, -1]]\n",
    "    cmin, cmax = np.where(cols)[0][[0, -1]]\n",
    "    \n",
    "    return rmin, cmin, rmax, cmax #ymin,xmin,ymax,cmax"
   ]
  },
  {
   "cell_type": "code",
   "execution_count": null,
   "metadata": {},
   "outputs": [],
   "source": [
    "def get_image_by_uid(images_df, uid):\n",
    "    image = images_df[images_df.UID == uid].Image.item() # item is added because the result is a series object with 1 element\n",
    "    image = cv2.cvtColor(image, cv2.COLOR_GRAY2RGB)\n",
    "    return image"
   ]
  },
  {
   "cell_type": "code",
   "execution_count": null,
   "metadata": {},
   "outputs": [],
   "source": [
    "def get_mask_by_uid(rle_encodings_df, image, uid):\n",
    "    # create the mask \n",
    "    # note: there can be more than one RLE encoding per image\n",
    "    rle_encodings = rle_encodings_df[rle_encodings_df.ImageId == uid].EncodedPixels   \n",
    "    final_mask = None\n",
    "    for rle_encoding in rle_encodings.to_list():\n",
    "        current_mask = rle2mask(rle=rle_encoding, width=image.shape[0], height=image.shape[1])\n",
    "        if final_mask is None:\n",
    "            final_mask = current_mask\n",
    "        else:\n",
    "            # print(f'another mask is added')\n",
    "            final_mask += current_mask  # Important logic\n",
    "\n",
    "    # mask needs to be rotated to fit the original image\n",
    "    mask = final_mask\n",
    "    mask = np.rot90(mask, 3) #rotating three times 90 to the right place\n",
    "    mask = np.flip(mask, axis=1)\n",
    "    \n",
    "    return mask"
   ]
  },
  {
   "cell_type": "code",
   "execution_count": null,
   "metadata": {},
   "outputs": [],
   "source": [
    "def plot_imgs(uids_list, images_df, rle_encodings_df):\n",
    "    for uid in uids_list:\n",
    "        # prepare data for plots\n",
    "        try:\n",
    "            image = get_image_by_uid(images_df, uid)\n",
    "            mask = get_mask_by_uid(rle_encodings_df, image, uid)\n",
    "            rmin, cmin, rmax, cmax = get_bounding_box(mask)\n",
    "        except Exception as e:\n",
    "            raise e\n",
    "            print(f'could not process image with uid {uid}.\\nreason: {e}')\n",
    "            continue\n",
    "        \n",
    "        # Create the figure\n",
    "        fig, axes = plt.subplots(1,4, figsize=(20,15))\n",
    "        \n",
    "        # Create the plot for the original image\n",
    "        axes[0].imshow(image, cmap='bone')\n",
    "        axes[0].set_title('Original Image')\n",
    "        \n",
    "        # Create the plot for the Pneumathorax mask\n",
    "        axes[1].imshow(mask, cmap='gray')\n",
    "        axes[1].set_title('Mask Only')\n",
    "        \n",
    "        # Create the plot for the original image with the mask on top of it\n",
    "        axes[2].imshow(image, cmap='bone')\n",
    "        axes[2].imshow(mask, alpha=0.3,cmap='Reds')\n",
    "        axes[2].set_title('Image + mask')\n",
    "        \n",
    "        # Create the plot for original image +mask+ mask bounding box\n",
    "        cv2.rectangle(image, (cmin,rmin),(cmax,rmax), (255,255,0), 5)\n",
    "        axes[3].imshow(image)\n",
    "        axes[3].imshow(mask,alpha=0.3,cmap='Reds')\n",
    "        axes[3].set_title('Image + Mask + Bounding Box')\n",
    "        \n",
    "        # Finally, show image\n",
    "        plt.show()"
   ]
  },
  {
   "cell_type": "code",
   "execution_count": null,
   "metadata": {},
   "outputs": [],
   "source": [
    "number_of_images_to_plot = 7\n",
    "\n",
    "train_metadata_df_ill = train_metadata_df[train_metadata_df['Label'] == 'Pneumothorax'].reset_index(drop=True)\n",
    "partial_ill_uids_list = train_metadata_df_ill.head(number_of_images_to_plot)['UID'].to_list()\n",
    "\n",
    "plot_imgs(\n",
    "    uids_list=partial_ill_uids_list, \n",
    "    images_df=train_images_df, \n",
    "    rle_encodings_df=train_rle_encodings_df,\n",
    ")"
   ]
  },
  {
   "cell_type": "code",
   "execution_count": null,
   "metadata": {},
   "outputs": [],
   "source": [
    "def get_total_area_of_and_metadata_of_masks(metadata_df, images_df, rle_encodings_df):\n",
    "    \"\"\"\n",
    "    important note: if there are multiple notes for each image, we use the sum of these masks\n",
    "    \n",
    "    note: the result does not only give the area, but also some metadata for plotting later on\n",
    "    \"\"\"\n",
    "    result = []\n",
    "    for _, row in metadata_df.iterrows():\n",
    "        # prepare data for plots\n",
    "        try:\n",
    "            uid = row['UID']\n",
    "            image = get_image_by_uid(images_df, uid)\n",
    "            mask = get_mask_by_uid(rle_encodings_df, image, uid)\n",
    "            pixels = np.count_nonzero(mask)\n",
    "            \n",
    "            # save results with additional metadata on the mask and image\n",
    "            result.append(\n",
    "                {\n",
    "                    'TotalArea': pixels, \n",
    "                    'ViewPosition': row['ViewPosition'], \n",
    "                    'Sex': row['Sex'], \n",
    "                    'Age': row['Age'],\n",
    "                    'Mask': mask,  # get the mask itself for later on when we will create heatmaps\n",
    "                })\n",
    "        except Exception as e:\n",
    "            raise e\n",
    "            print(f'could not process image with uid {uid}.\\nreason: {e}')\n",
    "            continue\n",
    "            \n",
    "    return result"
   ]
  },
  {
   "cell_type": "code",
   "execution_count": null,
   "metadata": {},
   "outputs": [],
   "source": [
    "%%time\n",
    "results = get_total_area_of_and_metadata_of_masks(\n",
    "    metadata_df=train_metadata_df_ill, \n",
    "    images_df=train_images_df, \n",
    "    rle_encodings_df=train_rle_encodings_df\n",
    ")"
   ]
  },
  {
   "cell_type": "code",
   "execution_count": null,
   "metadata": {},
   "outputs": [],
   "source": [
    "list_of_areas = [list_item['TotalArea'] for list_item in results] \n",
    "plt.figure(figsize=(15, 5))\n",
    "plt.title(f'Histogram of total area of pneumathorax in pixels')\n",
    "plt.hist(list_of_areas, bins = 100)\n",
    "plt.xlabel(\"Area in pixels\")\n",
    "plt.ylabel(\"Count\")\n",
    "plt.legend()\n",
    "plt.show()"
   ]
  },
  {
   "cell_type": "code",
   "execution_count": null,
   "metadata": {},
   "outputs": [],
   "source": [
    "print(f'Remember: ~60% of train data are PA')\n",
    "list_of_areas_pa = [list_item['TotalArea'] for list_item in results if list_item['ViewPosition'] == 'PA'] \n",
    "list_of_areas_ap = [list_item['TotalArea'] for list_item in results if list_item['ViewPosition'] == 'AP'] \n",
    "plt.figure(figsize=(15, 5))\n",
    "plt.title(f'Histogram of total area of pneumathorax in pixels')\n",
    "plt.hist([list_of_areas_pa, list_of_areas_ap], color=['Black', 'Red'], label=['PA', 'AP'], bins = 100)\n",
    "plt.xlabel(\"Area in pixels\")\n",
    "plt.ylabel(\"Count\")\n",
    "plt.legend()\n",
    "plt.show()"
   ]
  },
  {
   "cell_type": "code",
   "execution_count": null,
   "metadata": {},
   "outputs": [],
   "source": [
    "print(f'Remember: ~55% of train data are male')\n",
    "list_of_areas_male = [list_item['TotalArea'] for list_item in results if list_item['Sex'] == 'M'] \n",
    "list_of_areas_female = [list_item['TotalArea'] for list_item in results if list_item['Sex'] == 'F'] \n",
    "plt.figure(figsize=(15, 5))\n",
    "plt.title(f'Histogram of total area of pneumathorax in pixels')\n",
    "plt.hist([list_of_areas_male, list_of_areas_female], color=['Black', 'Red'], label=['Male', 'Female'], bins = 100)\n",
    "plt.xlabel(\"Area in pixels\")\n",
    "plt.ylabel(\"Count\")\n",
    "plt.legend()\n",
    "plt.show()"
   ]
  },
  {
   "cell_type": "code",
   "execution_count": null,
   "metadata": {},
   "outputs": [],
   "source": [
    "temp_df = pd.DataFrame(results)\n",
    "\n",
    "ax = sns.jointplot(data=temp_df, x=\"TotalArea\", y=\"Age\", hue=\"Sex\")\n",
    "ax.fig.suptitle('Histogram of total area of pneumathorax in pixels')\n",
    "ax.fig.tight_layout()\n",
    "plt.show()"
   ]
  },
  {
   "cell_type": "code",
   "execution_count": null,
   "metadata": {},
   "outputs": [],
   "source": [
    "ax = sns.jointplot(data=temp_df, x=\"TotalArea\", y=\"Age\", hue=\"ViewPosition\")\n",
    "ax.fig.suptitle('Histogram of total area of pneumathorax in pixels')\n",
    "ax.fig.tight_layout()\n",
    "plt.show()"
   ]
  },
  {
   "cell_type": "code",
   "execution_count": null,
   "metadata": {},
   "outputs": [],
   "source": []
  },
  {
   "cell_type": "markdown",
   "metadata": {},
   "source": [
    "# Whats left ?? just to convert the box below to our code !\n"
   ]
  },
  {
   "cell_type": "code",
   "execution_count": null,
   "metadata": {},
   "outputs": [],
   "source": [
    "## location of pneumathorax"
   ]
  },
  {
   "cell_type": "code",
   "execution_count": null,
   "metadata": {},
   "outputs": [],
   "source": [
    "results"
   ]
  },
  {
   "cell_type": "code",
   "execution_count": null,
   "metadata": {},
   "outputs": [],
   "source": [
    "# init variables\n",
    "total_sum = np.zeros((1024,1024))\n",
    "pa_sum = np.zeros((1024,1024))\n",
    "ap_sum = np.zeros((1024,1024))\n",
    "\n",
    "# get data\n",
    "for item in results:\n",
    "    total_sum += item['Mask']\n",
    "    if item['ViewPosition'] == 'PA':\n",
    "        pa_sum += item['Mask']\n",
    "    elif item['ViewPosition'] == 'AP':\n",
    "        ap_sum += item['Mask']\n",
    "    else:\n",
    "        pass # problem"
   ]
  },
  {
   "cell_type": "code",
   "execution_count": null,
   "metadata": {},
   "outputs": [],
   "source": [
    "fig = plt.figure(figsize=(17, 5))\n",
    "basic_palette = sns.color_palette()\n",
    "\n",
    "ax1 = plt.subplot2grid((1, 3), (0, 0))\n",
    "ax1.imshow(pa_sum, cmap='magma_r')\n",
    "ax1.set_title(\"All PA positioned masks\", fontsize=18, pad=15)\n",
    "\n",
    "#colorbar\n",
    "maxval = np.max(pa_sum)\n",
    "cmap = plt.get_cmap('magma_r', maxval)\n",
    "\n",
    "norm = mpl.colors.Normalize()\n",
    "sm = plt.cm.ScalarMappable(cmap=cmap, norm=norm)\n",
    "sm.set_array([])\n",
    "\n",
    "ticks=[1/(maxval+1)/2, 0.5, 1-1/(maxval+1)/2]\n",
    "\n",
    "cb_1 = plt.colorbar(sm,ticks=[0, 1], fraction=0.046, ax=ax1)#ticks and boundaries\n",
    "cb_1.ax.set_yticklabels([\"no Pneu\", str(int(maxval))]) #label of colormap\n",
    "cb_1.ax.yaxis.set_label_position('left')\n",
    "\n",
    "plt.grid(False)\n",
    "plt.xticks([])\n",
    "plt.yticks([])\n",
    "\n",
    "ax2 = plt.subplot2grid((1, 3), (0, 1))\n",
    "ax2.pie([pa, ap], labels = [\"PA\", \"AP\"], colors=[basic_palette[-2], basic_palette[4]], autopct='%1.1f%%', startangle=70)\n",
    "ax2.set_title(\"Occurrences of View positions\", fontsize=18)\n",
    "\n",
    "ax3 = plt.subplot2grid((1, 3), (0, 2))\n",
    "ax3.imshow(ap_sum, cmap='magma_r')\n",
    "ax3.set_title(\"All AP positioned masks\", fontsize=18, pad=15)\n",
    "\n",
    "maxval = np.max(ap_sum)\n",
    "cmap2 = plt.get_cmap('magma_r', maxval)\n",
    "\n",
    "norm = mpl.colors.Normalize()\n",
    "sm = plt.cm.ScalarMappable(cmap=cmap, norm=norm)\n",
    "sm.set_array([])\n",
    "\n",
    "cb_2 = plt.colorbar(sm,ticks=[0, 1], fraction=0.046, ax=ax3)#ticks and boundaries\n",
    "cb_2.ax.set_yticklabels([\"no Pneu\", str(int(maxval))]) #label of colormap\n",
    "cb_2.ax.yaxis.set_label_position('left')\n",
    "\n",
    "plt.grid(False)\n",
    "plt.xticks([])\n",
    "plt.yticks([])"
   ]
  },
  {
   "cell_type": "code",
   "execution_count": null,
   "metadata": {},
   "outputs": [],
   "source": [
    "pass"
   ]
  },
  {
   "cell_type": "code",
   "execution_count": null,
   "metadata": {},
   "outputs": [],
   "source": []
  },
  {
   "cell_type": "markdown",
   "metadata": {},
   "source": [
    "There are a bit more of men, so in proportion with that, there are a bit more men with Pneumothorax than women. We also know the age of patients, so let's see the age distribution. To create a histogram, we have to know the maximum ages, for example by sorting."
   ]
  },
  {
   "cell_type": "markdown",
   "metadata": {},
   "source": [
    "To find out more about the occurence of Pneumothorax at different ages and genders, we can create a plot like the following:\n",
    "\n",
    "<a class=\"anchor\" id=\"section4c\"></a>"
   ]
  },
  {
   "cell_type": "markdown",
   "metadata": {},
   "source": [
    "It is striking that many 16-year-old boys suffer from Pneumothorax, even more than the 64 years old men. The result seems unexpected, but if we read more about the disease, it turns out that the [young, tall and thin men](https://edmonton.ctvnews.ca/tall-thin-young-man-you-could-suffer-from-a-collapsed-lung-1.1234203) are more vulnerable. Young women in their twenties don't seem to be an exception. However this information is based only on a small amount of data.\n",
    "\n",
    "Next let's check the other extracted attributes: Modality, BodyPart, ViewPosition."
   ]
  },
  {
   "cell_type": "markdown",
   "metadata": {},
   "source": [
    "As we expected, all the BodyPart fields are chests, the modality is CR, which means Computed Radiography (I think). \n",
    "\n",
    "<a class=\"anchor\" id=\"section4d\"></a>\n",
    "### 4.4 The importance of view positions on an x-ray image \n",
    "\n",
    "They say usually AP view is used for x-rays, but in the case of the chest x-rays are rather taken from the PA view. If the health level of the patient does not allow to do PA, AP can also help. \n",
    "\n",
    "It would be interesting to check the Pneumothorax severity level in relation to view position too. But first, we have to decode the run-length-encoding (RLE) present int the train csv file. "
   ]
  },
  {
   "cell_type": "markdown",
   "metadata": {},
   "source": [
    "Here are two examples of the encoded pixels. The rle2mask function returns a filter which has the same size as the original image. Some rotation and mirroring were needed, to place the mask correctly."
   ]
  },
  {
   "cell_type": "markdown",
   "metadata": {},
   "source": [
    "<a class=\"anchor\" id=\"section6b\"></a>\n",
    "### 6.2 The location of Pneumothorax\n",
    "\n",
    "To get a general insight into the location of Pneumothorax, we can create some \"lung heatmaps\" for  AP and PA views. Of course, every patient is different, thus the size of the lungs and their place on the x-ray image can be different. However, a heatmap may give an overview."
   ]
  },
  {
   "cell_type": "code",
   "execution_count": 15,
   "metadata": {
    "_kg_hide-input": true
   },
   "outputs": [],
   "source": []
  },
  {
   "cell_type": "code",
   "execution_count": 16,
   "metadata": {
    "_kg_hide-input": true
   },
   "outputs": [
    {
     "data": {
      "text/plain": [
       "([], <a list of 0 Text yticklabel objects>)"
      ]
     },
     "execution_count": 16,
     "metadata": {},
     "output_type": "execute_result"
    },
    {
     "data": {
      "image/png": "[encoded data removed]",
      "text/plain": [
       "<Figure size 1224x360 with 5 Axes>"
      ]
     },
     "metadata": {},
     "output_type": "display_data"
    }
   ],
   "source": [
    "fig = plt.figure(figsize=(17, 5))\n",
    "basic_palette = sns.color_palette()\n",
    "\n",
    "ax1 = plt.subplot2grid((1, 3), (0, 0))\n",
    "ax1.imshow(pa_sum, cmap='magma_r')\n",
    "ax1.set_title(\"All PA positioned masks\", fontsize=18, pad=15)\n",
    "\n",
    "#colorbar\n",
    "maxval = np.max(pa_sum)\n",
    "cmap = plt.get_cmap('magma_r', maxval)\n",
    "\n",
    "norm = mpl.colors.Normalize()\n",
    "sm = plt.cm.ScalarMappable(cmap=cmap, norm=norm)\n",
    "sm.set_array([])\n",
    "\n",
    "ticks=[1/(maxval+1)/2, 0.5, 1-1/(maxval+1)/2]\n",
    "\n",
    "cb_1 = plt.colorbar(sm,ticks=[0, 1], fraction=0.046, ax=ax1)#ticks and boundaries\n",
    "cb_1.ax.set_yticklabels([\"no Pneu\", str(int(maxval))]) #label of colormap\n",
    "cb_1.ax.yaxis.set_label_position('left')\n",
    "\n",
    "plt.grid(False)\n",
    "plt.xticks([])\n",
    "plt.yticks([])\n",
    "\n",
    "ax2 = plt.subplot2grid((1, 3), (0, 1))\n",
    "ax2.pie([pa, ap], labels = [\"PA\", \"AP\"], colors=[basic_palette[-2], basic_palette[4]], autopct='%1.1f%%', startangle=70)\n",
    "ax2.set_title(\"Occurrences of View positions\", fontsize=18)\n",
    "\n",
    "ax3 = plt.subplot2grid((1, 3), (0, 2))\n",
    "ax3.imshow(ap_sum, cmap='magma_r')\n",
    "ax3.set_title(\"All AP positioned masks\", fontsize=18, pad=15)\n",
    "\n",
    "maxval = np.max(ap_sum)\n",
    "cmap2 = plt.get_cmap('magma_r', maxval)\n",
    "\n",
    "norm = mpl.colors.Normalize()\n",
    "sm = plt.cm.ScalarMappable(cmap=cmap, norm=norm)\n",
    "sm.set_array([])\n",
    "\n",
    "cb_2 = plt.colorbar(sm,ticks=[0, 1], fraction=0.046, ax=ax3)#ticks and boundaries\n",
    "cb_2.ax.set_yticklabels([\"no Pneu\", str(int(maxval))]) #label of colormap\n",
    "cb_2.ax.yaxis.set_label_position('left')\n",
    "\n",
    "plt.grid(False)\n",
    "plt.xticks([])\n",
    "plt.yticks([])"
   ]
  },
  {
   "cell_type": "markdown",
   "metadata": {},
   "source": [
    "It seems that in both cases the top left corner of the lung is the most common location. In the PA cases, the x-ray images create a cleaner view, the lungs are outlined, while the general lungs of AP cases are noisier and have orange tone. From the colorbar can be read the maximum number of overlapped pixels."
   ]
  },
  {
   "cell_type": "markdown",
   "metadata": {},
   "source": [
    "<a class=\"anchor\" id=\"section7\"></a>\n",
    "## 7. Conclusion\n",
    "\n",
    "So these were some brief explorations to get a bit more insight into the dataset and its metadata. We have seen the gender and age distributions of healthy and ill people, we discovered more about the x-ray image view positions and about the affected areas. Hopefully, it was useful to understand a bit the nature of the disease and of the affected people."
   ]
  },
  {
   "cell_type": "markdown",
   "metadata": {},
   "source": [
    "## Benchmark \\ Baseline U-net"
   ]
  },
  {
   "cell_type": "code",
   "execution_count": null,
   "metadata": {},
   "outputs": [],
   "source": [
    "# from: https://github.com/qubvel/segmentation_models.pytorch\n",
    "\n",
    "\n",
    "model = smp.Unet(\n",
    "    encoder_name=\"resnet34\",        # choose encoder, e.g. mobilenet_v2 or efficientnet-b7\n",
    "    encoder_weights=\"imagenet\",     # use `imagenet` pre-trained weights for encoder initialization\n",
    "    in_channels=1,                  # model input channels (1 for gray-scale images, 3 for RGB, etc.)\n",
    "    classes=3,                      # model output channels (number of classes in your dataset)\n",
    ")\n"
   ]
  },
  {
   "cell_type": "code",
   "execution_count": null,
   "metadata": {},
   "outputs": [],
   "source": []
  },
  {
   "cell_type": "code",
   "execution_count": null,
   "metadata": {},
   "outputs": [],
   "source": []
  }
 ],
 "metadata": {
  "kernelspec": {
   "display_name": "Python 3 (ipykernel)",
   "language": "python",
   "name": "python3"
  },
  "language_info": {
   "codemirror_mode": {
    "name": "ipython",
    "version": 3
   },
   "file_extension": ".py",
   "mimetype": "text/x-python",
   "name": "python",
   "nbconvert_exporter": "python",
   "pygments_lexer": "ipython3",
   "version": "3.8.5"
  }
 },
 "nbformat": 4,
 "nbformat_minor": 4
}
